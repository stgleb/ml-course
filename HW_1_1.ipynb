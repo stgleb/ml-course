{
  "nbformat": 4,
  "nbformat_minor": 0,
  "metadata": {
    "colab": {
      "provenance": [],
      "include_colab_link": true
    },
    "kernelspec": {
      "name": "python3",
      "display_name": "Python 3"
    },
    "language_info": {
      "name": "python"
    }
  },
  "cells": [
    {
      "cell_type": "markdown",
      "metadata": {
        "id": "view-in-github",
        "colab_type": "text"
      },
      "source": [
        "<a href=\"https://colab.research.google.com/github/stgleb/ml-course/blob/main/HW_1_1.ipynb\" target=\"_parent\"><img src=\"https://colab.research.google.com/assets/colab-badge.svg\" alt=\"Open In Colab\"/></a>"
      ]
    },
    {
      "cell_type": "markdown",
      "source": [
        "В цьому домашньому завданні відпрацюємо з вами знання, отримані в модулі зі статистики.\n",
        "\n",
        "**Завдання 1.** Ми обговорили з Вами на лекції, що велика літера Сігма грецького алфавіту позначає в математиці суму. Знайдіть з використанням Python $\\Sigma x$, $\\Sigma x^2$, та $\\Sigma (x-1)^2$ для наступного набору даних:\n",
        "`1 3 4`\n",
        "Виведіть результат кожного обчислення на екран."
      ],
      "metadata": {
        "id": "SDhaTqxcWhnP"
      }
    },
    {
      "cell_type": "code",
      "source": [
        "data = [1, 3, 4]\n",
        "\n",
        "sum_x = sum(data)\n",
        "sum_x_squared = sum(x**2 for x in data)\n",
        "sum_x_minus_1_squared = sum((x-1)**2 for x in data)\n",
        "\n",
        "print(f\"Σx = {sum_x}\")\n",
        "print(f\"Σx² = {sum_x_squared}\")\n",
        "print(f\"Σ(x−1)² = {sum_x_minus_1_squared}\")"
      ],
      "metadata": {
        "id": "B1mgx_IBT0e8",
        "colab": {
          "base_uri": "https://localhost:8080/"
        },
        "outputId": "ca1b2fa1-7258-4732-a973-58ae6c99ae1e"
      },
      "execution_count": 1,
      "outputs": [
        {
          "output_type": "stream",
          "name": "stdout",
          "text": [
            "Σx = 8\n",
            "Σx² = 26\n",
            "Σ(x−1)² = 13\n"
          ]
        }
      ]
    },
    {
      "cell_type": "markdown",
      "source": [
        "**Завдання 2.** Ми зібрали дані про суму покупок в гривнях 20ма випадково обраними клієнтами в нашому магазині (всього клієнтів у нас більше) за минулий місяць. Вони представлені в змінній `sum_purchases`. Знайдіть **вибіркове середнє** для цих даних кожним з зазначених методів:   \n",
        "\n",
        "  2.1. без використання жодних бібліотек, користуючись тільки Python.  \n",
        "  2.2. використовуючи відповідний метод бібліотеки `numpy`.\n",
        "\n",
        "  Виведіть результат обчислень в кожному з випадків на екран та порівняйте результати. Вони співпадають?"
      ],
      "metadata": {
        "id": "fa78aW5lhiia"
      }
    },
    {
      "cell_type": "code",
      "execution_count": 3,
      "metadata": {
        "id": "_9kMt3rq6V5m"
      },
      "outputs": [],
      "source": [
        "sum_purchases = [ 316,  493,  367,  153,  224,  121,  322,  450,  196,  397,  281,\n",
        "  239,  484,  124,  223,  448,  432,  255, 4310, 3524]"
      ]
    },
    {
      "cell_type": "code",
      "source": [
        "def calculate_mean_pure_python(data):\n",
        "    total_sum = 0\n",
        "    count = 0\n",
        "\n",
        "    for value in data:\n",
        "        total_sum += value\n",
        "        count += 1\n",
        "\n",
        "    return total_sum / count if count > 0 else 0\n",
        "\n",
        "mean_pure_python = calculate_mean_pure_python(sum_purchases)\n",
        "print(f\"pure python mean: {mean_pure_python}\")\n",
        "\n",
        "import numpy as np\n",
        "\n",
        "mean_numpy = np.mean(sum_purchases)\n",
        "print(f\"mean (numpy): {mean_numpy}\")\n",
        "\n",
        "# Порівняння результатів\n",
        "print(f\"\\n Compare results:\", abs(mean_pure_python - mean_numpy) < 0.000001)"
      ],
      "metadata": {
        "id": "wPmL919HT1c0",
        "colab": {
          "base_uri": "https://localhost:8080/"
        },
        "outputId": "f1b4df39-6192-48bc-d362-3868c96c8cb0"
      },
      "execution_count": 6,
      "outputs": [
        {
          "output_type": "stream",
          "name": "stdout",
          "text": [
            "pure python mean: 667.95\n",
            "mean (numpy): 667.95\n",
            "\n",
            " Compare results: True\n"
          ]
        }
      ]
    },
    {
      "cell_type": "markdown",
      "source": [
        "**Завдання 3.** Для того ж набору даних в змінній `sum_purchases` обчисліть **медіану** кожним з зазначених методів:  \n",
        "\n",
        "  3.1. без використання жодних бібліотек, користуючись тільки Python.  \n",
        "  3.2. використовуючи відповідний метод бібліотеки numpy.  \n",
        "\n",
        "Виведіть результат обчислень в кожному з випадків на екран. Порівняйте результати зі значенням вибіркового середнього. Напишіть коментар, для яких задач ви б використовували вибіркове середнє, а для яких - медіану?"
      ],
      "metadata": {
        "id": "FMdoxZd0kZdW"
      }
    },
    {
      "cell_type": "code",
      "source": [
        "def calculate_median_pure_python(data):\n",
        "    sorted_data = sorted(data)\n",
        "    n = len(sorted_data)\n",
        "\n",
        "    if n % 2 == 0:\n",
        "        middle1 = sorted_data[n // 2 - 1]\n",
        "        middle2 = sorted_data[n // 2]\n",
        "        median = (middle1 + middle2) / 2\n",
        "    else:\n",
        "        median = sorted_data[n // 2]\n",
        "\n",
        "    return median\n",
        "\n",
        "median_pure = calculate_median_pure_python(sum_purchases)\n",
        "print(f\"Median (pure Python): {median_pure}\")\n",
        "\n",
        "import numpy as np\n",
        "\n",
        "median_numpy = np.median(sum_purchases)\n",
        "print(f\"Median (numpy): {median_numpy}\")\n",
        "\n",
        "mean_value = np.mean(sum_purchases)\n",
        "\n",
        "print(f\"Difference (pure_median - np_median): {abs(median_pure - median_numpy) < 0.000001 }\")\n",
        "print(f\"Difference (mean - median): {abs(mean_value - median_numpy) < 0.000001 }\")\n",
        "# вибіркове середнє більше схильне до зсуву у разі вликих outliers."
      ],
      "metadata": {
        "id": "x58BumvuT2nl",
        "colab": {
          "base_uri": "https://localhost:8080/"
        },
        "outputId": "66689248-aed3-4073-faa6-1a1dea338853"
      },
      "execution_count": 9,
      "outputs": [
        {
          "output_type": "stream",
          "name": "stdout",
          "text": [
            "Median (pure Python): 319.0\n",
            "Median (numpy): 319.0\n",
            "Difference (pure_median - np_median): True\n",
            "Difference (mean - median): False\n"
          ]
        }
      ]
    },
    {
      "cell_type": "markdown",
      "source": [
        "**Завдання 4**. Обчислість стандартне відхилення наведеної вибірки в змінній `sum_purchases` кожним з зазначених методів:  \n",
        "\n",
        "  4.1. без використання жодних бібліотек, користуючись тільки Python.  \n",
        "  4.2. використовуючи відповідний метод бібліотеки numpy.  \n",
        "\n",
        "Виведіть результат обчислень в кожному з випадків на екран."
      ],
      "metadata": {
        "id": "o1Z7az2yNDQV"
      }
    },
    {
      "cell_type": "code",
      "source": [
        "sum_purchases = [316, 493, 367, 153, 224, 121, 322, 450, 196, 397, 281,\n",
        "                239, 484, 124, 223, 448, 432, 255, 4310, 3524]\n",
        "\n",
        "# Method 1: Calculating standard deviation without using libraries\n",
        "def calculate_std_pure_python(data):\n",
        "    n = len(data)\n",
        "    mean = sum(data) / n\n",
        "    squared_diff_sum = sum((x - mean) ** 2 for x in data)\n",
        "    variance = squared_diff_sum / n\n",
        "    std_dev = variance ** 0.5\n",
        "\n",
        "    return std_dev\n",
        "\n",
        "std_dev_pure_python = calculate_std_pure_python(sum_purchases)\n",
        "print(f\"Standard deviation (pure Python): {std_dev_pure_python}\")\n",
        "\n",
        "# Method 2: Calculating standard deviation using numpy\n",
        "import numpy as np\n",
        "\n",
        "std_dev_numpy = np.std(sum_purchases)\n",
        "print(f\"Standard deviation (numpy default, population): {std_dev_numpy}\")\n",
        "\n",
        "print(f\"Pure Python == Numpy: {abs(std_dev_pure_python - std_dev_numpy)< 0.000001}\")"
      ],
      "metadata": {
        "id": "X4ixtmL2T642",
        "colab": {
          "base_uri": "https://localhost:8080/"
        },
        "outputId": "89ee04f6-7b92-4fad-af32-7c97a8085d42"
      },
      "execution_count": 11,
      "outputs": [
        {
          "output_type": "stream",
          "name": "stdout",
          "text": [
            "Standard deviation (pure Python): 1096.0692713054227\n",
            "Standard deviation (numpy default, population): 1096.0692713054227\n",
            "Pure Python == Numpy: True\n"
          ]
        }
      ]
    },
    {
      "cell_type": "markdown",
      "source": [
        "**Завдання 5**. Ми провели дослідження віку студентів-першокурсників. Виявилось, що\n",
        "- 10 студентів мають вік 16 років\n",
        "- 25 студентів - 17 років\n",
        "- 20 студентів - 18 років\n",
        "- 2 студенти - 20 років\n",
        "\n",
        "Обчислість середнє значення для цієї вибірки будь-яким способом - на чистому Python або з numpy - та виведіть результат на екран."
      ],
      "metadata": {
        "id": "M1ntKTjXLVlH"
      }
    },
    {
      "cell_type": "code",
      "source": [
        "age_data = {\n",
        "    16: 10,\n",
        "    17: 25,\n",
        "    18: 20,\n",
        "    20: 2\n",
        "}\n",
        "\n",
        "def calculate_mean_pure_python(age_freq):\n",
        "    total_sum = 0\n",
        "    total_count = 0\n",
        "\n",
        "    for age, count in age_freq.items():\n",
        "        total_sum += age * count\n",
        "        total_count += count\n",
        "\n",
        "    return total_sum / total_count if total_count > 0 else 0\n",
        "\n",
        "mean_age_python = calculate_mean_pure_python(age_data)\n",
        "print(f\"Mean age (pure Python): {mean_age_python}\")\n",
        "\n",
        "total_students = sum(age_data.values())\n",
        "print(f\"\\nTotal number of students: {total_students}\")\n",
        "print(f\"Mean age of first-year students: {mean_age_python:.2f} years\")"
      ],
      "metadata": {
        "id": "RdIU4M-7T8R4",
        "colab": {
          "base_uri": "https://localhost:8080/"
        },
        "outputId": "076b8aa0-f9a0-43e6-b881-7690976ee42a"
      },
      "execution_count": 12,
      "outputs": [
        {
          "output_type": "stream",
          "name": "stdout",
          "text": [
            "Mean age (pure Python): 17.280701754385966\n",
            "\n",
            "Total number of students: 57\n",
            "Mean age of first-year students: 17.28 years\n"
          ]
        }
      ]
    },
    {
      "cell_type": "markdown",
      "source": [
        "**Завдання 6**. Крім даних про суму покупок, ми зібрали ще дані про кількість відвідувань кожного з кожного покупця, які знаходяться в змінній `visits`. Обчисліть коефіцієнт кореляції Пірсона для суми покупок і кількості відвідувань кожним з зазначених методів:  \n",
        "\n",
        "  6.1. без використання жодних бібліотек, користуючись тільки Python.  \n",
        "  6.2. використовуючи відповідний метод бібліотеки numpy.  \n",
        "  \n",
        "Виведіть результат на екран. Проаналізуйте результат.\n",
        "\n",
        "Виведіть додатково графік розсіювання викликавши код нижче і зробіть заключення, чи варто щось змінити при підрахунку кореляції, аби коефіцієнт Пірсона показував коректну оцінку лінійної залежності?"
      ],
      "metadata": {
        "id": "Xx8MFkkVM53z"
      }
    },
    {
      "cell_type": "code",
      "source": [
        "visits = [ 6,  2, 10,  3,  9,  9,  2,  3,  6,  6, 10,  2,  5, 10,  3,  5,  4,\n",
        "        7,  4,  2]\n",
        "\n",
        "sum_purchases = [316, 493, 367, 153, 224, 121, 322, 450, 196, 397, 281,\n",
        "                239, 484, 124, 223, 448, 432, 255, 4310, 3524]"
      ],
      "metadata": {
        "id": "4OIGBT7UOWhO"
      },
      "execution_count": 27,
      "outputs": []
    },
    {
      "cell_type": "code",
      "source": [
        "\n",
        "def calculate_pearson_correlation_pure_python(x, y):\n",
        "    if len(x) != len(y):\n",
        "        raise ValueError(\"Both lists must have the same length\")\n",
        "\n",
        "    n = len(x)\n",
        "\n",
        "    mean_x = sum(x) / n\n",
        "    mean_y = sum(y) / n\n",
        "\n",
        "    sum_prod_dev = sum((x[i] - mean_x) * (y[i] - mean_y) for i in range(n))\n",
        "\n",
        "    sum_squared_dev_x = sum((x[i] - mean_x) ** 2 for i in range(n))\n",
        "    sum_squared_dev_y = sum((y[i] - mean_y) ** 2 for i in range(n))\n",
        "\n",
        "    correlation = sum_prod_dev / ((sum_squared_dev_x * sum_squared_dev_y) ** 0.5)\n",
        "\n",
        "    return correlation\n",
        "\n",
        "correlation_pure_python = calculate_pearson_correlation_pure_python(visits, sum_purchases)\n",
        "print(f\"Pearson correlation (pure Python): {correlation_pure_python}\")\n",
        "\n",
        "import numpy as np\n",
        "\n",
        "correlation_numpy = np.corrcoef(visits, sum_purchases)[0, 1]\n",
        "print(f\"Pearson correlation (numpy): {correlation_numpy}\")\n",
        "\n",
        "# Remove top 2 outliers\n",
        "n = len(visits)\n",
        "visits = visits[:n - 2]\n",
        "sum_purchases = sum_purchases[:n - 2]\n",
        "\n",
        "print(sum_purchases)\n",
        "correlation_numpy_without_outliers = calculate_pearson_correlation_pure_python(visits, sum_purchases)\n",
        "print(f\"Pearson correlation (numpy without outliers): {correlation_numpy_without_outliers}\")"
      ],
      "metadata": {
        "id": "YLNF7VbeT97Q",
        "colab": {
          "base_uri": "https://localhost:8080/"
        },
        "outputId": "3c1d5ad2-df86-40b7-e33b-e0afa5fd1ef6"
      },
      "execution_count": 25,
      "outputs": [
        {
          "output_type": "stream",
          "name": "stdout",
          "text": [
            "Pearson correlation (pure Python): -0.3026584468766646\n",
            "Pearson correlation (numpy): -0.3026584468766646\n",
            "[316, 493, 367, 153, 224, 121, 322, 450, 196, 397, 281, 239, 484, 124, 223, 448, 432, 255]\n",
            "Pearson correlation (numpy without outliers): -0.3685212078127798\n"
          ]
        }
      ]
    },
    {
      "cell_type": "code",
      "source": [
        "import matplotlib.pyplot as plt\n",
        "\n",
        "plt.scatter(sum_purchases, visits)\n",
        "plt.title('Scatter Plot of Purchases vs. Visits')\n",
        "plt.xlabel('Sum of Purchases')\n",
        "plt.ylabel('Number of Visits');"
      ],
      "metadata": {
        "colab": {
          "base_uri": "https://localhost:8080/",
          "height": 472
        },
        "id": "gaeoGA-5Prr1",
        "outputId": "e020c88c-0186-4cc4-d567-3f85f5d9023d"
      },
      "execution_count": 26,
      "outputs": [
        {
          "output_type": "display_data",
          "data": {
            "text/plain": [
              "<Figure size 640x480 with 1 Axes>"
            ],
            "image/png": "[encoded data removed]"
          },
          "metadata": {}
        }
      ]
    },
    {
      "cell_type": "markdown",
      "source": [
        "**Завдання 7**. В попередньому завданні ми помітили, що викиди нам заважають отримати \"правдиве\" значення кореляції. Давайте вилучимо записи, які відповідають значенням з викидами в сумі покупок і обчисліть коеф. кореляції. Для цього поставте `threshold`, який дорінює середньому значенню + 2 стандартних вдіхилля суми покупок і всі значення, які більше за нього, будемо вважати викидами (є і інші правила для визначення викидів - з ним и познайомимось пізніше).\n",
        "\n",
        "Вилучіть значення з обох масивів і обчисліть коеф. кореляції Пірсона з допомогою `numpy` для кількості візитів і суми покупок без записів-викидів. Виведіть результат на екран, побудуйте діаграму розсіювання і проаналізуйте результат: що можемо сказати про залежність в даних?"
      ],
      "metadata": {
        "id": "4pEg0KzSQ6KA"
      }
    },
    {
      "cell_type": "code",
      "source": [
        "import numpy as np\n",
        "import matplotlib.pyplot as plt\n",
        "\n",
        "mean_purchases = np.mean(sum_purchases)\n",
        "std_purchases = np.std(sum_purchases)\n",
        "threshold = mean_purchases + 2 * std_purchases\n",
        "\n",
        "non_outlier_indices = [i for i in range(len(sum_purchases)) if sum_purchases[i] <= threshold]\n",
        "visits_no_outliers = [visits[i] for i in non_outlier_indices]\n",
        "purchases_no_outliers = [sum_purchases[i] for i in non_outlier_indices]\n",
        "\n",
        "correlation_no_outliers = np.corrcoef(visits_no_outliers, purchases_no_outliers)[0, 1]\n",
        "\n",
        "print(f\"Pearson correlation (numpy without outliers): {correlation_no_outliers}\")\n",
        "\n",
        "# There is no evidence of corrlation between visits and purchase sum.\n",
        "plt.scatter(purchases_no_outliers, visits_no_outliers)\n"
      ],
      "metadata": {
        "id": "Yj3Yfaf7UBbc",
        "colab": {
          "base_uri": "https://localhost:8080/",
          "height": 465
        },
        "outputId": "654b9873-5fb0-4fcc-9e86-02a079fc662e"
      },
      "execution_count": 30,
      "outputs": [
        {
          "output_type": "stream",
          "name": "stdout",
          "text": [
            "Pearson correlation (numpy without outliers): -0.36852120781277986\n"
          ]
        },
        {
          "output_type": "execute_result",
          "data": {
            "text/plain": [
              "<matplotlib.collections.PathCollection at 0x7d2c010c1850>"
            ]
          },
          "metadata": {},
          "execution_count": 30
        },
        {
          "output_type": "display_data",
          "data": {
            "text/plain": [
              "<Figure size 640x480 with 1 Axes>"
            ],
            "image/png": "[encoded data removed]"
          },
          "metadata": {}
        }
      ]
    }
  ]
}